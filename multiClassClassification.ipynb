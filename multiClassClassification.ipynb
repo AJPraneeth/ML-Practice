{
 "cells": [
  {
   "cell_type": "code",
   "execution_count": 1,
   "metadata": {},
   "outputs": [],
   "source": [
    "import torch\n",
    "import torch.nn as nn\n",
    "from torch.utils.data import Dataset, DataLoader\n",
    "from sklearn.datasets import load_iris\n",
    "from sklearn.model_selection import train_test_split\n",
    "from sklearn.metrics import accuracy_score\n",
    "import seaborn as sns"
   ]
  },
  {
   "cell_type": "code",
   "execution_count": 2,
   "metadata": {},
   "outputs": [],
   "source": [
    "iris = load_iris()\n",
    "X = iris.data\n",
    "y = iris.target"
   ]
  },
  {
   "cell_type": "code",
   "execution_count": 3,
   "metadata": {},
   "outputs": [],
   "source": [
    "X_train, X_test, y_train, y_test = train_test_split(X, y, test_size = 0.2)"
   ]
  },
  {
   "cell_type": "code",
   "execution_count": 15,
   "metadata": {},
   "outputs": [],
   "source": [
    "X_train = X_train.astype('float32')\n",
    "X_test = X_test.astype('float32')"
   ]
  },
  {
   "cell_type": "code",
   "execution_count": 16,
   "metadata": {},
   "outputs": [],
   "source": [
    "class IrishData(Dataset):\n",
    "    def __init__(self, X_train, y_train) -> None:\n",
    "        super().__init__()\n",
    "        self.X = torch.from_numpy(X_train)\n",
    "        self.y = torch.from_numpy(y_train)\n",
    "        self.y = self.y.type(torch.LongTensor)\n",
    "        self.len = self.X.shape[0]\n",
    "        \n",
    "    def __getitem__(self, index):\n",
    "        return self.X[index], self.y[index]\n",
    "    \n",
    "    def __len__(self):\n",
    "        return self.len"
   ]
  },
  {
   "cell_type": "code",
   "execution_count": 17,
   "metadata": {},
   "outputs": [],
   "source": [
    "irish_data=IrishData(X_train=X_train, y_train=y_train)\n",
    "train_loader = DataLoader(dataset=irish_data, batch_size=32)"
   ]
  },
  {
   "cell_type": "code",
   "execution_count": 19,
   "metadata": {},
   "outputs": [],
   "source": [
    "class MultiClassNet(nn.Module):\n",
    "    def __init__(self, NUM_FEATURES, NUM_CLASSES, HIDDEN_FEATURES):\n",
    "        super().__init__()\n",
    "        self.lin1 = nn.Linear(NUM_FEATURES, HIDDEN_FEATURES)\n",
    "        self.lin2=nn.Linear(HIDDEN_FEATURES,NUM_CLASSES)\n",
    "        self.log_softmax = nn.LogSoftmax(dim=1)\n",
    "        \n",
    "    def forward(self, x):\n",
    "        x = self.lin1(x)\n",
    "        x = torch.sigmoid(x)\n",
    "        x = self.lin2(x)\n",
    "        x = self.log_softmax(x)\n",
    "        return x\n",
    "    \n",
    "        "
   ]
  },
  {
   "cell_type": "code",
   "execution_count": 20,
   "metadata": {},
   "outputs": [],
   "source": [
    "NUM_FEATURES=irish_data.X.shape[1]\n",
    "HIDDEN=6\n",
    "NUM_CLASSES=len(irish_data.y.unique())\n"
   ]
  },
  {
   "cell_type": "code",
   "execution_count": 21,
   "metadata": {},
   "outputs": [],
   "source": [
    "model = MultiClassNet(NUM_FEATURES=NUM_FEATURES, NUM_CLASSES=NUM_CLASSES, HIDDEN_FEATURES=HIDDEN)"
   ]
  },
  {
   "cell_type": "code",
   "execution_count": 22,
   "metadata": {},
   "outputs": [],
   "source": [
    "criterion = nn.CrossEntropyLoss()"
   ]
  },
  {
   "cell_type": "code",
   "execution_count": 23,
   "metadata": {},
   "outputs": [],
   "source": [
    "lr=0.1\n",
    "optimizer=torch.optim.SGD(model.parameters(), lr=lr)"
   ]
  },
  {
   "cell_type": "code",
   "execution_count": 25,
   "metadata": {},
   "outputs": [
    {
     "name": "stdout",
     "output_type": "stream",
     "text": [
      "Epoch 0, Loss: 1.0308873653411865\n",
      "Parameter containing:\n",
      "tensor([[ 0.2231, -0.1545, -0.2075,  0.2740],\n",
      "        [-0.1079, -0.3379, -0.3385, -0.1130],\n",
      "        [-0.2520, -0.3012,  0.4400,  0.3403],\n",
      "        [ 0.0446, -0.2097, -0.0477,  0.4544],\n",
      "        [-0.2722,  0.2405, -0.1157, -0.3311],\n",
      "        [-0.3599, -0.1627, -0.2439, -0.0461]], requires_grad=True)\n",
      "Parameter containing:\n",
      "tensor([-0.3360,  0.3101,  0.0646,  0.1571, -0.3662,  0.3834],\n",
      "       requires_grad=True)\n",
      "Parameter containing:\n",
      "tensor([[-0.1249,  0.2883, -0.2478,  0.1813,  0.3863,  0.1328],\n",
      "        [ 0.3760, -0.1764, -0.3884,  0.3942, -0.2642,  0.3004],\n",
      "        [-0.0183, -0.2274,  0.3298,  0.3822,  0.0151, -0.1029]],\n",
      "       requires_grad=True)\n",
      "Parameter containing:\n",
      "tensor([0.2979, 0.0970, 0.0519], requires_grad=True)\n"
     ]
    }
   ],
   "source": [
    "NUM_EPOCHS=100\n",
    "losses=[]\n",
    "for epoch in range(NUM_EPOCHS):\n",
    "    for x, y in train_loader:\n",
    "        # initialize gradients\n",
    "        optimizer.zero_grad()\n",
    "        # forward pass\n",
    "        y_hat_log = model(x)\n",
    "        # calculate losses\n",
    "        loss = criterion(y_hat_log, y)\n",
    "        # calculate gradients\n",
    "        loss.backward()\n",
    "        # update parameters\n",
    "        optimizer.step()\n",
    "    # append losses\n",
    "    losses.append(loss.item())\n",
    "    # Debugging: print loss and parameter values every 100 epochs\n",
    "    if epoch % 100 == 0:\n",
    "        print(f\"Epoch {epoch}, Loss: {loss.item()}\")\n",
    "        # print(f\"Slope: {model.lin1.weight.item()}, Bias: {model.lin1.bias.item()}\")\n",
    "        for param in model.parameters():\n",
    "            print(param)"
   ]
  },
  {
   "cell_type": "code",
   "execution_count": 26,
   "metadata": {},
   "outputs": [
    {
     "data": {
      "text/plain": [
       "<Axes: >"
      ]
     },
     "execution_count": 26,
     "metadata": {},
     "output_type": "execute_result"
    },
    {
     "data": {
      "image/png": "[encoded data removed]",
      "text/plain": [
       "<Figure size 640x480 with 1 Axes>"
      ]
     },
     "metadata": {},
     "output_type": "display_data"
    }
   ],
   "source": [
    "sns.lineplot(x= range(len(losses)), y = losses)"
   ]
  },
  {
   "cell_type": "code",
   "execution_count": 27,
   "metadata": {},
   "outputs": [],
   "source": [
    "X_test_torch = torch.from_numpy(X_test)"
   ]
  },
  {
   "cell_type": "code",
   "execution_count": 29,
   "metadata": {},
   "outputs": [],
   "source": [
    "with torch.no_grad():\n",
    "    y_test_hat_softmax = model(X_test_torch)\n",
    "    y_test_hat=torch.max(y_test_hat_softmax.data, 1)"
   ]
  },
  {
   "cell_type": "code",
   "execution_count": 30,
   "metadata": {},
   "outputs": [
    {
     "data": {
      "text/plain": [
       "0.9333333333333333"
      ]
     },
     "execution_count": 30,
     "metadata": {},
     "output_type": "execute_result"
    }
   ],
   "source": [
    "accuracy_score(y_test, y_test_hat.indices)"
   ]
  },
  {
   "cell_type": "code",
   "execution_count": 31,
   "metadata": {},
   "outputs": [
    {
     "name": "stdout",
     "output_type": "stream",
     "text": [
      "Naive Classifier: 36.666666666666664 %\n"
     ]
    }
   ],
   "source": [
    "from collections import Counter\n",
    "most_common_cnt = Counter(y_test).most_common()[0][1]\n",
    "print(f\"Naive Classifier: {most_common_cnt / len(y_test) * 100} %\")"
   ]
  },
  {
   "cell_type": "code",
   "execution_count": 32,
   "metadata": {},
   "outputs": [],
   "source": [
    "torch.save(model.state_dict(), 'artifacts/model_iris.pth')"
   ]
  }
 ],
 "metadata": {
  "kernelspec": {
   "display_name": "base",
   "language": "python",
   "name": "python3"
  },
  "language_info": {
   "codemirror_mode": {
    "name": "ipython",
    "version": 3
   },
   "file_extension": ".py",
   "mimetype": "text/x-python",
   "name": "python",
   "nbconvert_exporter": "python",
   "pygments_lexer": "ipython3",
   "version": "3.11.5"
  }
 },
 "nbformat": 4,
 "nbformat_minor": 2
}
