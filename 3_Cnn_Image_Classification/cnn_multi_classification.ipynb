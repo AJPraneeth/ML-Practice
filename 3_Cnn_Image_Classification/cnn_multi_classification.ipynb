{
 "cells": [
  {
   "cell_type": "code",
   "execution_count": 1,
   "metadata": {},
   "outputs": [],
   "source": [
    "import torch\n",
    "import torchvision\n",
    "import torchvision.transforms as transforms\n",
    "import torch.nn as nn\n",
    "import torch.nn.functional as F\n",
    "import os\n",
    "import matplotlib.pyplot as plt\n",
    "import numpy as np\n",
    "from sklearn.metrics import accuracy_score\n",
    "import seaborn as sns"
   ]
  },
  {
   "cell_type": "code",
   "execution_count": 18,
   "metadata": {},
   "outputs": [],
   "source": [
    "transform=transforms.Compose(\n",
    "    [transforms.Resize((50,50)),\n",
    "    transforms.Grayscale(num_output_channels=1),\n",
    "    transforms.ToTensor(),\n",
    "    transforms.Normalize((0.5, ), (0.5, ))]\n",
    ")"
   ]
  },
  {
   "cell_type": "code",
   "execution_count": 19,
   "metadata": {},
   "outputs": [],
   "source": [
    "batch_size = 4\n",
    "trainset = torchvision.datasets.ImageFolder(root='dataset/multiclass/data/train', transform=transform)\n",
    "trainloader = torch.utils.data.DataLoader(trainset, batch_size=batch_size, shuffle=True)\n",
    "testset = torchvision.datasets.ImageFolder(root='dataset/multiclass/data/test', transform=transform)\n",
    "testloader = torch.utils.data.DataLoader(testset, batch_size=batch_size, shuffle=True)\n",
    "CLASSES=['affenpinscher', 'akita','corgi']"
   ]
  },
  {
   "cell_type": "code",
   "execution_count": 5,
   "metadata": {},
   "outputs": [],
   "source": [
    "def imshow(img):\n",
    "    img = img / 2 + 0.5     # unnormalize\n",
    "    npimg = img.numpy()\n",
    "    plt.imshow(np.transpose(npimg, (1, 2, 0)))\n",
    "    plt.show()"
   ]
  },
  {
   "cell_type": "markdown",
   "metadata": {},
   "source": [
    "get some random training images"
   ]
  },
  {
   "cell_type": "code",
   "execution_count": null,
   "metadata": {},
   "outputs": [],
   "source": [
    "# dataiter = iter(trainloader)\n",
    "# images, labels = dataiter.__next__()\n",
    "# imshow(torchvision.utils.make_grid(images, nrow=2))"
   ]
  },
  {
   "cell_type": "markdown",
   "metadata": {},
   "source": [
    "Neural Network setup"
   ]
  },
  {
   "cell_type": "code",
   "execution_count": 26,
   "metadata": {},
   "outputs": [],
   "source": [
    "NUM_CLASSES = len(CLASSES)\n",
    "class ImageClassificationNet(nn.Module):\n",
    "    def __init__(self) -> None:\n",
    "        super().__init__()\n",
    "        self.conv1=nn.Conv2d(in_channels=1, out_channels=6, kernel_size=3)\n",
    "        self.pool=nn.MaxPool2d(kernel_size=2, stride=2)\n",
    "        self.conv2=nn.Conv2d(in_channels=6, out_channels=16, kernel_size=3)\n",
    "        self.fc1=nn.Linear(in_features=16 * 11 * 11, out_features=128)\n",
    "        self.fc2=nn.Linear(in_features=128, out_features=64)\n",
    "        self.fc3=nn.Linear(in_features=64, out_features=NUM_CLASSES)\n",
    "        self.relu=nn.ReLU()\n",
    "        self.softmax = nn.LogSoftmax()\n",
    "        self.flatten = nn.Flatten()\n",
    "        \n",
    "    def forward(self, x):\n",
    "        x = self.conv1(x) # out: (BS, 6, 48, 48)\n",
    "        x = self.relu(x)\n",
    "        x = self.pool(x) # out: (BS, 6, 24, 24)\n",
    "        x = self.conv2(x) # out: (BS, 16, 22, 22)\n",
    "        x = self.relu(x)\n",
    "        x = self.pool(x) # out: (BS, 16, 11, 11)\n",
    "        x = self.flatten(x)\n",
    "        x = self.fc1(x)\n",
    "        x = self.relu(x)\n",
    "        x = self.fc2(x)\n",
    "        x = self.relu(x)\n",
    "        x = self.fc3(x)\n",
    "        x = self.softmax(x)\n",
    "        return x\n",
    "        \n",
    "        "
   ]
  },
  {
   "cell_type": "markdown",
   "metadata": {},
   "source": [
    "init model"
   ]
  },
  {
   "cell_type": "code",
   "execution_count": 27,
   "metadata": {},
   "outputs": [],
   "source": [
    "# input = torch.rand(1, 1, 50, 50) # BS, C, H, W\n",
    "model = ImageClassificationNet() \n",
    "loss_fn=nn.CrossEntropyLoss()\n",
    "optimizer = torch.optim.Adam(model.parameters(), lr=1e-2)"
   ]
  },
  {
   "cell_type": "markdown",
   "metadata": {},
   "source": [
    "Training"
   ]
  },
  {
   "cell_type": "code",
   "execution_count": 31,
   "metadata": {},
   "outputs": [
    {
     "name": "stderr",
     "output_type": "stream",
     "text": [
      "c:\\Users\\prane\\anaconda3\\Lib\\site-packages\\torch\\nn\\modules\\module.py:1511: UserWarning: Implicit dimension choice for log_softmax has been deprecated. Change the call to include dim=X as an argument.\n",
      "  return self._call_impl(*args, **kwargs)\n"
     ]
    },
    {
     "name": "stdout",
     "output_type": "stream",
     "text": [
      "Epoch 0/100, Step 75/75, Loss: 0.7096\n",
      "Epoch 10/100, Step 75/75, Loss: 0.0000\n",
      "Epoch 20/100, Step 75/75, Loss: 0.0000\n",
      "Epoch 30/100, Step 75/75, Loss: 0.0000\n",
      "Epoch 40/100, Step 75/75, Loss: 0.0000\n",
      "Epoch 50/100, Step 75/75, Loss: 0.0000\n",
      "Epoch 60/100, Step 75/75, Loss: 0.0000\n",
      "Epoch 70/100, Step 75/75, Loss: 0.0000\n",
      "Epoch 80/100, Step 75/75, Loss: 0.0000\n",
      "Epoch 90/100, Step 75/75, Loss: 0.0000\n"
     ]
    }
   ],
   "source": [
    "losses=[]\n",
    "Num_Epochs=100\n",
    "for epoch in range(Num_Epochs):\n",
    "    for i, data in enumerate(trainloader, 0):\n",
    "        inputs, labels = data\n",
    "        optimizer.zero_grad()\n",
    "        outputs = model(inputs)\n",
    "        # print(outputs.shape, labels.shape,labels,outputs)\n",
    "        \n",
    "        loss = loss_fn(outputs, labels)\n",
    "        loss.backward()\n",
    "        optimizer.step()\n",
    "    losses.append(loss.item())\n",
    "    if epoch % 10 == 0:\n",
    "        print(f'Epoch {epoch}/{Num_Epochs}, Step {i+1}/{len(trainloader)}, Loss: {loss.item():.4f}')\n",
    "        "
   ]
  },
  {
   "cell_type": "markdown",
   "metadata": {},
   "source": [
    "Evaluation"
   ]
  },
  {
   "cell_type": "code",
   "execution_count": 32,
   "metadata": {},
   "outputs": [
    {
     "data": {
      "text/plain": [
       "<Axes: >"
      ]
     },
     "execution_count": 32,
     "metadata": {},
     "output_type": "execute_result"
    },
    {
     "data": {
      "image/png": "[encoded data removed]",
      "text/plain": [
       "<Figure size 640x480 with 1 Axes>"
      ]
     },
     "metadata": {},
     "output_type": "display_data"
    }
   ],
   "source": [
    "sns.lineplot(x=range(len(losses)), y=losses)"
   ]
  },
  {
   "cell_type": "markdown",
   "metadata": {},
   "source": [
    "test"
   ]
  },
  {
   "cell_type": "code",
   "execution_count": 33,
   "metadata": {},
   "outputs": [
    {
     "name": "stderr",
     "output_type": "stream",
     "text": [
      "c:\\Users\\prane\\anaconda3\\Lib\\site-packages\\torch\\nn\\modules\\module.py:1511: UserWarning: Implicit dimension choice for log_softmax has been deprecated. Change the call to include dim=X as an argument.\n",
      "  return self._call_impl(*args, **kwargs)\n"
     ]
    }
   ],
   "source": [
    "y_test = []\n",
    "y_test_hat = []\n",
    "for i, data in enumerate(testloader, 0):\n",
    "    inputs, y_test_temp = data\n",
    "    with torch.no_grad():\n",
    "        y_test_hat_temp = model(inputs).round()\n",
    "    \n",
    "    y_test.extend(y_test_temp.numpy())\n",
    "    y_test_hat.extend(y_test_hat_temp.numpy())"
   ]
  },
  {
   "cell_type": "code",
   "execution_count": 37,
   "metadata": {},
   "outputs": [
    {
     "name": "stdout",
     "output_type": "stream",
     "text": [
      "Accuracy: 88.33 %\n"
     ]
    }
   ],
   "source": [
    "acc = accuracy_score(y_test, np.argmax(y_test_hat, axis=1))\n",
    "print(f'Accuracy: {acc*100:.2f} %')"
   ]
  },
  {
   "cell_type": "code",
   "execution_count": 40,
   "metadata": {},
   "outputs": [
    {
     "name": "stdout",
     "output_type": "stream",
     "text": [
      "Precision: 89.78%\n",
      "Recall: 88.33%\n",
      "F1-Score: 88.15%\n"
     ]
    }
   ],
   "source": [
    "from sklearn.metrics import precision_score, recall_score, f1_score\n",
    "\n",
    "\n",
    "# Convert probabilities to predicted labels for multi-class classification\n",
    "y_pred = np.argmax(y_test_hat, axis=1)\n",
    "\n",
    "# Precision, Recall, and F1-score for multi-class classification\n",
    "precision = precision_score(y_test, y_pred, average='macro')\n",
    "recall = recall_score(y_test, y_pred, average='macro')\n",
    "f1 = f1_score(y_test, y_pred, average='macro')\n",
    "\n",
    "print(f\"Precision: {precision * 100:.2f}%\")\n",
    "print(f\"Recall: {recall * 100:.2f}%\")\n",
    "print(f\"F1-Score: {f1 * 100:.2f}%\")"
   ]
  },
  {
   "cell_type": "code",
   "execution_count": 41,
   "metadata": {},
   "outputs": [
    {
     "data": {
      "image/png": "[encoded data removed]",
      "text/plain": [
       "<Figure size 640x480 with 2 Axes>"
      ]
     },
     "metadata": {},
     "output_type": "display_data"
    }
   ],
   "source": [
    "import matplotlib.pyplot as plt\n",
    "from sklearn.metrics import ConfusionMatrixDisplay\n",
    "\n",
    "# y_test_hat_list=[y_hat.item() for i,y_hat in enumerate(y_test_hat)]\n",
    "# Plot confusion matrix\n",
    "disp = ConfusionMatrixDisplay.from_predictions(y_test, y_pred)\n",
    "plt.title('Confusion Matrix')\n",
    "plt.show()"
   ]
  },
  {
   "cell_type": "markdown",
   "metadata": {},
   "source": [
    "Model Save"
   ]
  },
  {
   "cell_type": "code",
   "execution_count": 42,
   "metadata": {},
   "outputs": [],
   "source": [
    "torch.save(model.state_dict(), 'artifacts/cnn_multi_classification.pth')"
   ]
  },
  {
   "cell_type": "code",
   "execution_count": 44,
   "metadata": {},
   "outputs": [
    {
     "data": {
      "text/plain": [
       "ImageClassificationNet(\n",
       "  (conv1): Conv2d(1, 6, kernel_size=(3, 3), stride=(1, 1))\n",
       "  (pool): MaxPool2d(kernel_size=2, stride=2, padding=0, dilation=1, ceil_mode=False)\n",
       "  (conv2): Conv2d(6, 16, kernel_size=(3, 3), stride=(1, 1))\n",
       "  (fc1): Linear(in_features=1936, out_features=128, bias=True)\n",
       "  (fc2): Linear(in_features=128, out_features=64, bias=True)\n",
       "  (fc3): Linear(in_features=64, out_features=3, bias=True)\n",
       "  (relu): ReLU()\n",
       "  (softmax): LogSoftmax(dim=None)\n",
       "  (flatten): Flatten(start_dim=1, end_dim=-1)\n",
       ")"
      ]
     },
     "execution_count": 44,
     "metadata": {},
     "output_type": "execute_result"
    }
   ],
   "source": [
    "model_loaded = ImageClassificationNet()\n",
    "model_loaded.load_state_dict(torch.load('artifacts/cnn_multi_classification.pth'))\n",
    "model_loaded.eval()"
   ]
  },
  {
   "cell_type": "code",
   "execution_count": 45,
   "metadata": {},
   "outputs": [],
   "source": [
    "from PIL import Image\n",
    "# Load and preprocess the image\n",
    "img_path = 'dataset/multiclass/data/test/affenpinscher/affenpinscher_12.jpg'\n",
    "img = Image.open(img_path)\n",
    "img_tensor = transform(img)\n",
    "img_tensor = img_tensor.unsqueeze(0)"
   ]
  },
  {
   "cell_type": "code",
   "execution_count": 51,
   "metadata": {},
   "outputs": [
    {
     "name": "stdout",
     "output_type": "stream",
     "text": [
      "Predicted class: affenpinscher\n"
     ]
    },
    {
     "name": "stderr",
     "output_type": "stream",
     "text": [
      "c:\\Users\\prane\\anaconda3\\Lib\\site-packages\\torch\\nn\\modules\\module.py:1511: UserWarning: Implicit dimension choice for log_softmax has been deprecated. Change the call to include dim=X as an argument.\n",
      "  return self._call_impl(*args, **kwargs)\n"
     ]
    }
   ],
   "source": [
    "\n",
    "with torch.no_grad():\n",
    "    result = model_loaded(img_tensor).round()\n",
    "    pred=torch.argmax(result).item()\n",
    "\n",
    "    # Print the predicted class\n",
    "    print(f\"Predicted class: {CLASSES[pred]}\")\n",
    "\n",
    "    "
   ]
  }
 ],
 "metadata": {
  "kernelspec": {
   "display_name": "base",
   "language": "python",
   "name": "python3"
  },
  "language_info": {
   "codemirror_mode": {
    "name": "ipython",
    "version": 3
   },
   "file_extension": ".py",
   "mimetype": "text/x-python",
   "name": "python",
   "nbconvert_exporter": "python",
   "pygments_lexer": "ipython3",
   "version": "3.11.5"
  }
 },
 "nbformat": 4,
 "nbformat_minor": 2
}
