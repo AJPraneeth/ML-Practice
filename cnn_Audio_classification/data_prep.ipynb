{
 "cells": [
  {
   "cell_type": "code",
   "execution_count": 2,
   "metadata": {},
   "outputs": [
    {
     "data": {
      "text/plain": [
       "'d:\\\\ML_Projects'"
      ]
     },
     "execution_count": 2,
     "metadata": {},
     "output_type": "execute_result"
    }
   ],
   "source": [
    "import os\n",
    "%pwd\n",
    "os.chdir(\"../\")\n",
    "%pwd"
   ]
  },
  {
   "cell_type": "code",
   "execution_count": 5,
   "metadata": {},
   "outputs": [],
   "source": [
    "import pandas as pd"
   ]
  },
  {
   "cell_type": "code",
   "execution_count": 87,
   "metadata": {},
   "outputs": [],
   "source": [
    "ROOT_DIR = \"dataset/audio_classification/raw_data/\"\n",
    "CSV_FILE = \"set_a.csv\"\n"
   ]
  },
  {
   "cell_type": "code",
   "execution_count": 6,
   "metadata": {},
   "outputs": [],
   "source": [
    "df=pd.read_csv(ROOT_DIR+CSV_FILE)\n",
    "# Filter rows based on column: 'label'\n",
    "df = df[df['label'].notna()]\n",
    "audio_file_paths= df['fname']\n",
    "labels=df['label']\n",
    "class_list=labels.unique()"
   ]
  },
  {
   "cell_type": "code",
   "execution_count": 43,
   "metadata": {},
   "outputs": [],
   "source": [
    "# Split data with stratification to ensure each class has 80% for training and 20% for testing\n",
    "from sklearn.model_selection import train_test_split\n",
    "\n",
    "\n",
    "train_audio, test_audio, train_labels, test_labels = train_test_split(\n",
    "    audio_file_paths, labels, test_size=0.2, stratify=labels, random_state=42\n",
    ")"
   ]
  },
  {
   "cell_type": "code",
   "execution_count": 65,
   "metadata": {},
   "outputs": [],
   "source": [
    "from pathlib import Path\n",
    "import matplotlib.pyplot as plt\n",
    "import torch\n",
    "import torchaudio"
   ]
  },
  {
   "cell_type": "code",
   "execution_count": 64,
   "metadata": {},
   "outputs": [],
   "source": [
    "def plot_specgram(waveform, sample_rate, file_path = 'test2.png'):\n",
    "    waveform = waveform.numpy()\n",
    "\n",
    "    num_channels, num_frames = waveform.shape\n",
    "    \n",
    "    fig, axes = plt.subplots( num_channels, 1)\n",
    "    fig.set_size_inches(10, 10)\n",
    "    if num_channels == 1:\n",
    "        axes = [axes]\n",
    "    for c in range(num_channels):\n",
    "        axes[c].specgram(waveform[c], Fs=sample_rate)\n",
    "        if num_channels > 1:\n",
    "            axes[c].set_ylabel(f\"Channel {c+1}\")\n",
    "    plt.gca().set_axis_off()\n",
    "    plt.gca().axes.get_xaxis().set_visible(False)\n",
    "    plt.gca().axes.get_yaxis().set_visible(False)\n",
    "    # plt.show(block=False)\n",
    "    plt.savefig(file_path, bbox_inches='tight', pad_inches = 0)"
   ]
  },
  {
   "cell_type": "code",
   "execution_count": 86,
   "metadata": {},
   "outputs": [],
   "source": [
    "def create_spectrograms(file_paths,labels,data_type):\n",
    "    for i in range(len(file_paths)):\n",
    "        try:\n",
    "            print(f\"counting: {i+1}/{len(file_paths)}\")\n",
    "            # Access the file path using iloc to handle the Series indexing\n",
    "            full_audio_path = ROOT_DIR + file_paths[i]  # Access via iloc\n",
    "            label = labels[i]  # Access the label similarly\n",
    "            f=file_paths[i].split(\"/\")[1]\n",
    "            file_name_without_ext = os.path.splitext(os.path.basename(f))[0]\n",
    "            target_path = Path(ROOT_DIR +f\"{data_type}\" +\"/\"+label + \"/\" + file_name_without_ext + \".png\")\n",
    "            target_path.parent.mkdir(parents=True, exist_ok=True)\n",
    "\n",
    "            # extract class type from file, e.g. \n",
    "            data_waveform, sr = torchaudio.load(full_audio_path)\n",
    "            # create spectrogram and save it\n",
    "            plot_specgram(waveform=data_waveform, sample_rate=sr, file_path=target_path)\n",
    "        except Exception as e:\n",
    "            # Print an error message and continue to the next file\n",
    "            print(f\"Error processing file {full_audio_path}: {e}\")"
   ]
  },
  {
   "cell_type": "code",
   "execution_count": null,
   "metadata": {},
   "outputs": [],
   "source": [
    "\n",
    "# train data\n",
    "create_spectrograms(train_audio.to_list(),train_labels.to_list(),\"train\")\n",
    "# # test data\n",
    "create_spectrograms(test_audio.to_list(),test_labels.to_list(),\"test\")\n",
    "\n",
    "    "
   ]
  }
 ],
 "metadata": {
  "kernelspec": {
   "display_name": "base",
   "language": "python",
   "name": "python3"
  },
  "language_info": {
   "codemirror_mode": {
    "name": "ipython",
    "version": 3
   },
   "file_extension": ".py",
   "mimetype": "text/x-python",
   "name": "python",
   "nbconvert_exporter": "python",
   "pygments_lexer": "ipython3",
   "version": "3.11.5"
  }
 },
 "nbformat": 4,
 "nbformat_minor": 2
}
